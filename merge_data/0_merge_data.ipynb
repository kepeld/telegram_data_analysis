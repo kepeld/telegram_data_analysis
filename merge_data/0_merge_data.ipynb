{
 "cells": [
  {
   "cell_type": "code",
   "execution_count": 2,
   "id": "09b4e301",
   "metadata": {},
   "outputs": [],
   "source": [
    "import os\n",
    "import pandas as pd\n",
    "import glob\n",
    "import json"
   ]
  },
  {
   "cell_type": "code",
   "execution_count": null,
   "id": "d076df7c",
   "metadata": {},
   "outputs": [],
   "source": [
    "DIALOGS_DATA_PATH = \"path/to/dialogs/data\"\n",
    "DIALOGS_META_DATA_PATH = \"path/to/dialogs/meta/data\"\n",
    "\n",
    "MERGED_DATA_PATH = \"path/to/merged/data\""
   ]
  },
  {
   "cell_type": "code",
   "execution_count": null,
   "id": "65a13565",
   "metadata": {},
   "outputs": [],
   "source": [
    "!ls ../telegram-data-collection-master/data"
   ]
  },
  {
   "cell_type": "code",
   "execution_count": 13,
   "id": "6d0eddab",
   "metadata": {},
   "outputs": [],
   "source": [
    "dialogs_data_files = glob.glob(f\"{DIALOGS_DATA_PATH}/*.csv\")\n",
    "dialogs_meta_data_files = glob.glob(f\"{DIALOGS_META_DATA_PATH}/*.json\")"
   ]
  },
  {
   "cell_type": "code",
   "execution_count": null,
   "id": "2a45a648-f41a-49a2-b41f-c99734b9ac67",
   "metadata": {},
   "outputs": [],
   "source": [
    "print(f\"Found {len(dialogs_meta_data_files)} JSON files.\")\n",
    "print(dialogs_meta_data_files) \n"
   ]
  },
  {
   "cell_type": "markdown",
   "id": "78cc73b6",
   "metadata": {},
   "source": [
    "## merging all dialogs_data (csv files) into one"
   ]
  },
  {
   "cell_type": "code",
   "execution_count": null,
   "id": "4d582c3b",
   "metadata": {},
   "outputs": [],
   "source": [
    "df_array = []\n",
    "\n",
    "for d in dialogs_data_files:\n",
    "    try:\n",
    "\n",
    "        local_df = pd.read_csv(d, dtype=str)\n",
    "        local_df[\"dialog_id\"] = os.path.basename(d).split(\".\")[0]\n",
    "        df_array.append(local_df)\n",
    "    except Exception as e:\n",
    "        print(f\"Error reading {d}: {e}\")\n",
    "\n",
    "df = pd.concat(df_array, ignore_index=True)\n",
    "\n",
    "print(df.head())"
   ]
  },
  {
   "cell_type": "code",
   "execution_count": null,
   "id": "4d83eb47",
   "metadata": {},
   "outputs": [],
   "source": [
    "df.shape"
   ]
  },
  {
   "cell_type": "code",
   "execution_count": null,
   "id": "96e470a8",
   "metadata": {},
   "outputs": [],
   "source": [
    "\n",
    "if not os.path.isdir(MERGED_DATA_PATH):\n",
    "    os.makedirs(MERGED_DATA_PATH)\n",
    "\n",
    "if \"Unnamed: 0\" in df:\n",
    "    df = df.drop([\"Unnamed: 0\"], axis=1)\n",
    "\n",
    "\n",
    "df.to_csv(f\"{MERGED_DATA_PATH}/dialogs_data_all.csv\", index=False)"
   ]
  },
  {
   "cell_type": "code",
   "execution_count": null,
   "id": "16776850",
   "metadata": {},
   "outputs": [],
   "source": [
    "df.shape"
   ]
  },
  {
   "cell_type": "code",
   "execution_count": null,
   "id": "4672e8ce",
   "metadata": {},
   "outputs": [],
   "source": [
    "df.head(10)"
   ]
  },
  {
   "cell_type": "code",
   "execution_count": null,
   "id": "d1bd96f3",
   "metadata": {},
   "outputs": [],
   "source": [
    "min(df[\"date\"]),max(df[\"date\"])"
   ]
  },
  {
   "cell_type": "code",
   "execution_count": null,
   "id": "2a1aafab",
   "metadata": {},
   "outputs": [],
   "source": [
    "df.groupby([\"type\"])[\"type\"].count()"
   ]
  },
  {
   "cell_type": "code",
   "execution_count": null,
   "id": "66a677a9",
   "metadata": {},
   "outputs": [],
   "source": [
    "df.groupby([\"type\"])[\"duration\"].sum()"
   ]
  },
  {
   "cell_type": "markdown",
   "id": "e24460df",
   "metadata": {},
   "source": [
    "## merging all dialogs_meta_data (json files) into one"
   ]
  },
  {
   "cell_type": "code",
   "execution_count": null,
   "id": "3cecdc78",
   "metadata": {},
   "outputs": [],
   "source": [
    "import pandas as pd\n",
    "import json\n",
    "\n",
    "df_array = []\n",
    "\n",
    "print(f\"Found {len(dialogs_meta_data_files)} JSON files.\")\n",
    "\n",
    "for d in dialogs_meta_data_files:\n",
    "    try:\n",
    "\n",
    "        with open(d, 'r', encoding='utf-8') as file:\n",
    "            data = json.load(file)\n",
    "        \n",
    "\n",
    "        dialog_id = data.get('id')\n",
    "        dialog_name = data.get('name')\n",
    "        dialog_type = data.get('type')\n",
    "        \n",
    "\n",
    "        users = data.get('users', [])\n",
    "        \n",
    "\n",
    "        if not users:\n",
    "            df_array.append({\n",
    "                'dialog_id': dialog_id,\n",
    "                'name': dialog_name,\n",
    "                'type': dialog_type,\n",
    "                'user_id': None,\n",
    "                'first_name': None,\n",
    "                'last_name': None,\n",
    "                'username': None,\n",
    "                'phone': None\n",
    "            })\n",
    "        else:\n",
    "\n",
    "            for user in users:\n",
    "                df_array.append({\n",
    "                    'dialog_id': dialog_id,\n",
    "                    'name': dialog_name,\n",
    "                    'type': dialog_type,\n",
    "                    'user_id': user.get('user_id'),\n",
    "                    'first_name': user.get('first_name'),\n",
    "                    'last_name': user.get('last_name'),\n",
    "                    'username': user.get('username'),\n",
    "                    'phone': user.get('phone')\n",
    "                })\n",
    "\n",
    "    except ValueError as e:\n",
    "        print(f\"Error reading {d}: {e}\")\n",
    "\n",
    "df_expanded = pd.DataFrame(df_array)\n",
    "\n",
    "\n",
    "df_expanded.to_csv(f\"{MERGED_DATA_PATH}/dialogs_users_all_expanded.csv\", index=False)\n",
    "\n",
    "\n",
    "print(\"Final type counts in expanded DataFrame:\")\n",
    "print(df_expanded['type'].value_counts())\n"
   ]
  },
  {
   "cell_type": "code",
   "execution_count": 20,
   "id": "6b458ce5",
   "metadata": {},
   "outputs": [],
   "source": [
    "df_expanded.to_csv(f\"{MERGED_DATA_PATH}/dialogs_users_all.csv\", index=False)"
   ]
  },
  {
   "cell_type": "code",
   "execution_count": null,
   "id": "313b23f0",
   "metadata": {},
   "outputs": [],
   "source": [
    "df_expanded.shape"
   ]
  },
  {
   "cell_type": "code",
   "execution_count": null,
   "id": "ef6f51b9",
   "metadata": {},
   "outputs": [],
   "source": [
    "df_expanded.head(10)"
   ]
  },
  {
   "cell_type": "code",
   "execution_count": null,
   "id": "186f2f67",
   "metadata": {},
   "outputs": [],
   "source": [
    "df_expanded.groupby([\"type\"])[\"type\"].count()"
   ]
  },
  {
   "cell_type": "code",
   "execution_count": null,
   "id": "516dcfc1-89c8-4ef1-afaf-e6b87f7f43c4",
   "metadata": {},
   "outputs": [],
   "source": [
    "unique_groups = df_expanded[['name', 'dialog_id']]\n",
    "\n",
    "print(\"Унікальні назви груп та їхні dialog_id:\")\n",
    "print(unique_groups)\n",
    "\n",
    "unique_groups.to_csv('unique_groups4.csv', index=False)\n",
    "print(\"Список унікальних назв груп і їхніх ID збережено у файл 'unique_groups.csv'\")"
   ]
  }
 ],
 "metadata": {
  "kernelspec": {
   "display_name": "Python 3 (ipykernel)",
   "language": "python",
   "name": "python3"
  },
  "language_info": {
   "codemirror_mode": {
    "name": "ipython",
    "version": 3
   },
   "file_extension": ".py",
   "mimetype": "text/x-python",
   "name": "python",
   "nbconvert_exporter": "python",
   "pygments_lexer": "ipython3",
   "version": "3.12.2"
  }
 },
 "nbformat": 4,
 "nbformat_minor": 5
}
